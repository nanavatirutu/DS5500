{
 "cells": [
  {
   "cell_type": "code",
   "execution_count": 1,
   "metadata": {},
   "outputs": [],
   "source": [
    "import pandas as pd\n",
    "import matplotlib.pyplot as plt"
   ]
  },
  {
   "cell_type": "markdown",
   "metadata": {},
   "source": [
    "### Problem 1\n",
    "##### For the districts you selected for budget cuts in HW 3 Problem 4, calculate and visualize the proportion of each district’s total funding that will be lost. Which districts will be affected by your budget cuts the most?"
   ]
  },
  {
   "cell_type": "code",
   "execution_count": 2,
   "metadata": {},
   "outputs": [],
   "source": [
    "Cuts = pd.read_csv('./Data/cuts.csv', low_memory=False)"
   ]
  },
  {
   "cell_type": "code",
   "execution_count": 3,
   "metadata": {},
   "outputs": [],
   "source": [
    "Cuts['perc_tot'] = Cuts['cutAmount']/Cuts['TOTALREV'] "
   ]
  },
  {
   "cell_type": "markdown",
   "metadata": {},
   "source": [
    "####  Below is the list of top 10 districts affected by budget cut."
   ]
  },
  {
   "cell_type": "code",
   "execution_count": 4,
   "metadata": {},
   "outputs": [
    {
     "data": {
      "text/html": [
       "<div>\n",
       "<style scoped>\n",
       "    .dataframe tbody tr th:only-of-type {\n",
       "        vertical-align: middle;\n",
       "    }\n",
       "\n",
       "    .dataframe tbody tr th {\n",
       "        vertical-align: top;\n",
       "    }\n",
       "\n",
       "    .dataframe thead th {\n",
       "        text-align: right;\n",
       "    }\n",
       "</style>\n",
       "<table border=\"1\" class=\"dataframe\">\n",
       "  <thead>\n",
       "    <tr style=\"text-align: right;\">\n",
       "      <th></th>\n",
       "      <th>LEAID</th>\n",
       "      <th>NAME</th>\n",
       "      <th>STNAME</th>\n",
       "      <th>cutAmount</th>\n",
       "      <th>TOTALREV</th>\n",
       "      <th>perc_tot</th>\n",
       "    </tr>\n",
       "  </thead>\n",
       "  <tbody>\n",
       "    <tr>\n",
       "      <th>0</th>\n",
       "      <td>5000007</td>\n",
       "      <td>Barre Supervisory Union</td>\n",
       "      <td>Vermont</td>\n",
       "      <td>1.990760e+06</td>\n",
       "      <td>5209000</td>\n",
       "      <td>0.382177</td>\n",
       "    </tr>\n",
       "    <tr>\n",
       "      <th>1</th>\n",
       "      <td>3500158</td>\n",
       "      <td>WALATOWA CHARTER HIGH</td>\n",
       "      <td>New Mexico</td>\n",
       "      <td>6.229854e+05</td>\n",
       "      <td>1890000</td>\n",
       "      <td>0.329622</td>\n",
       "    </tr>\n",
       "    <tr>\n",
       "      <th>2</th>\n",
       "      <td>400403</td>\n",
       "      <td>Akimel O'Otham Pee Posh Charter School Inc. 1</td>\n",
       "      <td>Arizona</td>\n",
       "      <td>1.187008e+05</td>\n",
       "      <td>385000</td>\n",
       "      <td>0.308314</td>\n",
       "    </tr>\n",
       "    <tr>\n",
       "      <th>3</th>\n",
       "      <td>5300013</td>\n",
       "      <td>Educational Service District 105</td>\n",
       "      <td>Washington</td>\n",
       "      <td>7.298161e+06</td>\n",
       "      <td>23709000</td>\n",
       "      <td>0.307822</td>\n",
       "    </tr>\n",
       "    <tr>\n",
       "      <th>4</th>\n",
       "      <td>4800164</td>\n",
       "      <td>REG 14 EDUCATION SERVICE CENTER</td>\n",
       "      <td>Texas</td>\n",
       "      <td>5.873751e+06</td>\n",
       "      <td>20254000</td>\n",
       "      <td>0.290005</td>\n",
       "    </tr>\n",
       "    <tr>\n",
       "      <th>5</th>\n",
       "      <td>1600163</td>\n",
       "      <td>CHIEF TAHGEE ELEMENTARY ACADEMY DISTRICT</td>\n",
       "      <td>Idaho</td>\n",
       "      <td>6.059173e+05</td>\n",
       "      <td>2100000</td>\n",
       "      <td>0.288532</td>\n",
       "    </tr>\n",
       "    <tr>\n",
       "      <th>6</th>\n",
       "      <td>4800176</td>\n",
       "      <td>REG 9 EDUCATION SERVICE CENTER</td>\n",
       "      <td>Texas</td>\n",
       "      <td>3.596713e+06</td>\n",
       "      <td>12703000</td>\n",
       "      <td>0.283139</td>\n",
       "    </tr>\n",
       "    <tr>\n",
       "      <th>7</th>\n",
       "      <td>400351</td>\n",
       "      <td>Kaizen Education Foundation dba Vista Grove Pr...</td>\n",
       "      <td>Arizona</td>\n",
       "      <td>2.048171e+05</td>\n",
       "      <td>737000</td>\n",
       "      <td>0.277907</td>\n",
       "    </tr>\n",
       "    <tr>\n",
       "      <th>8</th>\n",
       "      <td>3004500</td>\n",
       "      <td>Box Elder H S</td>\n",
       "      <td>Montana</td>\n",
       "      <td>8.549563e+05</td>\n",
       "      <td>3081000</td>\n",
       "      <td>0.277493</td>\n",
       "    </tr>\n",
       "    <tr>\n",
       "      <th>9</th>\n",
       "      <td>5099931</td>\n",
       "      <td>North Country Supervisory Union</td>\n",
       "      <td>Vermont</td>\n",
       "      <td>2.648658e+06</td>\n",
       "      <td>9573000</td>\n",
       "      <td>0.276680</td>\n",
       "    </tr>\n",
       "  </tbody>\n",
       "</table>\n",
       "</div>"
      ],
      "text/plain": [
       "     LEAID                                               NAME      STNAME  \\\n",
       "0  5000007                            Barre Supervisory Union     Vermont   \n",
       "1  3500158                              WALATOWA CHARTER HIGH  New Mexico   \n",
       "2   400403      Akimel O'Otham Pee Posh Charter School Inc. 1     Arizona   \n",
       "3  5300013                   Educational Service District 105  Washington   \n",
       "4  4800164                    REG 14 EDUCATION SERVICE CENTER       Texas   \n",
       "5  1600163           CHIEF TAHGEE ELEMENTARY ACADEMY DISTRICT       Idaho   \n",
       "6  4800176                     REG 9 EDUCATION SERVICE CENTER       Texas   \n",
       "7   400351  Kaizen Education Foundation dba Vista Grove Pr...     Arizona   \n",
       "8  3004500                                      Box Elder H S     Montana   \n",
       "9  5099931                    North Country Supervisory Union     Vermont   \n",
       "\n",
       "      cutAmount  TOTALREV  perc_tot  \n",
       "0  1.990760e+06   5209000  0.382177  \n",
       "1  6.229854e+05   1890000  0.329622  \n",
       "2  1.187008e+05    385000  0.308314  \n",
       "3  7.298161e+06  23709000  0.307822  \n",
       "4  5.873751e+06  20254000  0.290005  \n",
       "5  6.059173e+05   2100000  0.288532  \n",
       "6  3.596713e+06  12703000  0.283139  \n",
       "7  2.048171e+05    737000  0.277907  \n",
       "8  8.549563e+05   3081000  0.277493  \n",
       "9  2.648658e+06   9573000  0.276680  "
      ]
     },
     "execution_count": 4,
     "metadata": {},
     "output_type": "execute_result"
    }
   ],
   "source": [
    "Cuts\\\n",
    ".sort_values(by = 'perc_tot', ascending = False)\\\n",
    "[['LEAID', 'NAME','STNAME','cutAmount','TOTALREV','perc_tot']]\\\n",
    ".head(n=10)"
   ]
  },
  {
   "cell_type": "code",
   "execution_count": 5,
   "metadata": {},
   "outputs": [
    {
     "data": {
      "image/png": "[encoded data removed]",
      "text/plain": [
       "<Figure size 432x288 with 1 Axes>"
      ]
     },
     "metadata": {
      "needs_background": "light"
     },
     "output_type": "display_data"
    }
   ],
   "source": [
    "cut_plot = Cuts.sort_values(by = 'perc_tot', ascending = False).head(n=10)\n",
    "plt.barh(cut_plot.NAME, \n",
    "         cut_plot.TOTALREV,left = cut_plot.cutAmount, label='Total Revenue')\n",
    "\n",
    "plt.barh(cut_plot.NAME, \n",
    "         cut_plot.cutAmount, label='Cut Amount')\n",
    "\n",
    "plt.ylabel(\"Districts that have maximum proportion cut.\")\n",
    "plt.xlabel(\"Amount ($)\")\n",
    "plt.legend(loc=\"upper right\")\n",
    "plt.title(\"Amount cut out of Total Revenue\")\n",
    "\n",
    "plt.show()"
   ]
  },
  {
   "cell_type": "code",
   "execution_count": 6,
   "metadata": {},
   "outputs": [
    {
     "data": {
      "image/png": "[encoded data removed]",
      "text/plain": [
       "<Figure size 432x288 with 1 Axes>"
      ]
     },
     "metadata": {
      "needs_background": "light"
     },
     "output_type": "display_data"
    }
   ],
   "source": [
    "plt.barh(cut_plot.NAME, \n",
    "         cut_plot.perc_tot, label= 'Proportion Cut for each district')\n",
    "\n",
    "plt.ylabel(\"Districts that have maximum proportion cut.\")\n",
    "plt.xlabel(\"Amount ($)\")\n",
    "plt.legend(loc=\"upper right\")\n",
    "plt.title(\"Proportion cut from total Revenue\")\n",
    "\n",
    "plt.show()"
   ]
  },
  {
   "cell_type": "markdown",
   "metadata": {},
   "source": [
    "##### We can observe maximum cut proportion is 0.38 that is 38%. Barre Supervisory union is most affected by budget cut. "
   ]
  },
  {
   "cell_type": "code",
   "execution_count": 7,
   "metadata": {},
   "outputs": [],
   "source": [
    "demographics = pd.read_csv('./Data/ccd_lea_052_1516_w_1a_011717.csv', low_memory=False)\n",
    "demographics.LEAID = demographics.LEAID.astype('str')"
   ]
  },
  {
   "cell_type": "markdown",
   "metadata": {},
   "source": [
    "### Problem 2\n",
    "#### A common problem with purely data-driven solutions is that they can inadvertently perpetuate hidden pre-existing biases in the data, and further disadvantage groups that are already disadvantaged. Calculate the proportion of enrolled students by race for each district, then visualize the distributions of these for districts that received budget cuts versus districts that did not receive budget cuts."
   ]
  },
  {
   "cell_type": "code",
   "execution_count": 8,
   "metadata": {},
   "outputs": [
    {
     "data": {
      "text/html": [
       "<div>\n",
       "<style scoped>\n",
       "    .dataframe tbody tr th:only-of-type {\n",
       "        vertical-align: middle;\n",
       "    }\n",
       "\n",
       "    .dataframe tbody tr th {\n",
       "        vertical-align: top;\n",
       "    }\n",
       "\n",
       "    .dataframe thead th {\n",
       "        text-align: right;\n",
       "    }\n",
       "</style>\n",
       "<table border=\"1\" class=\"dataframe\">\n",
       "  <thead>\n",
       "    <tr style=\"text-align: right;\">\n",
       "      <th></th>\n",
       "      <th>LEAID</th>\n",
       "      <th>American Indian/Alaska Native</th>\n",
       "      <th>Asian</th>\n",
       "      <th>Hispanic</th>\n",
       "      <th>Black</th>\n",
       "      <th>White</th>\n",
       "      <th>Hawaiian Native / Pacific Islander</th>\n",
       "      <th>Two or More Races</th>\n",
       "    </tr>\n",
       "  </thead>\n",
       "  <tbody>\n",
       "    <tr>\n",
       "      <th>1</th>\n",
       "      <td>100005</td>\n",
       "      <td>0.002685</td>\n",
       "      <td>0.003260</td>\n",
       "      <td>0.439010</td>\n",
       "      <td>0.029152</td>\n",
       "      <td>0.502301</td>\n",
       "      <td>0.000767</td>\n",
       "      <td>0.022823</td>\n",
       "    </tr>\n",
       "    <tr>\n",
       "      <th>2</th>\n",
       "      <td>100006</td>\n",
       "      <td>0.004614</td>\n",
       "      <td>0.003017</td>\n",
       "      <td>0.205856</td>\n",
       "      <td>0.008873</td>\n",
       "      <td>0.768589</td>\n",
       "      <td>0.000355</td>\n",
       "      <td>0.008696</td>\n",
       "    </tr>\n",
       "    <tr>\n",
       "      <th>3</th>\n",
       "      <td>100007</td>\n",
       "      <td>0.000719</td>\n",
       "      <td>0.066930</td>\n",
       "      <td>0.072466</td>\n",
       "      <td>0.254565</td>\n",
       "      <td>0.584543</td>\n",
       "      <td>0.001006</td>\n",
       "      <td>0.019770</td>\n",
       "    </tr>\n",
       "    <tr>\n",
       "      <th>4</th>\n",
       "      <td>100008</td>\n",
       "      <td>0.006193</td>\n",
       "      <td>0.086105</td>\n",
       "      <td>0.043852</td>\n",
       "      <td>0.203976</td>\n",
       "      <td>0.617920</td>\n",
       "      <td>0.002697</td>\n",
       "      <td>0.039257</td>\n",
       "    </tr>\n",
       "    <tr>\n",
       "      <th>6</th>\n",
       "      <td>100011</td>\n",
       "      <td>0.001050</td>\n",
       "      <td>0.006824</td>\n",
       "      <td>0.126509</td>\n",
       "      <td>0.227297</td>\n",
       "      <td>0.602625</td>\n",
       "      <td>0.002625</td>\n",
       "      <td>0.033071</td>\n",
       "    </tr>\n",
       "  </tbody>\n",
       "</table>\n",
       "</div>"
      ],
      "text/plain": [
       "    LEAID  American Indian/Alaska Native     Asian  Hispanic     Black  \\\n",
       "1  100005                       0.002685  0.003260  0.439010  0.029152   \n",
       "2  100006                       0.004614  0.003017  0.205856  0.008873   \n",
       "3  100007                       0.000719  0.066930  0.072466  0.254565   \n",
       "4  100008                       0.006193  0.086105  0.043852  0.203976   \n",
       "6  100011                       0.001050  0.006824  0.126509  0.227297   \n",
       "\n",
       "      White  Hawaiian Native / Pacific Islander  Two or More Races  \n",
       "1  0.502301                            0.000767           0.022823  \n",
       "2  0.768589                            0.000355           0.008696  \n",
       "3  0.584543                            0.001006           0.019770  \n",
       "4  0.617920                            0.002697           0.039257  \n",
       "6  0.602625                            0.002625           0.033071  "
      ]
     },
     "execution_count": 8,
     "metadata": {},
     "output_type": "execute_result"
    }
   ],
   "source": [
    "district_prop = demographics[['LEAID']][demographics['TOTAL'] >= 0].copy()\n",
    "\n",
    "district_prop['American Indian/Alaska Native'] = demographics['AM'] / demographics['TOTAL']\n",
    "district_prop['Asian'] = demographics['AS'] / demographics['TOTAL']\n",
    "district_prop['Hispanic'] = demographics['HI'] / demographics['TOTAL']\n",
    "district_prop['Black'] = demographics['BL'] / demographics['TOTAL']\n",
    "district_prop['White'] = demographics['WH'] / demographics['TOTAL']\n",
    "district_prop['Hawaiian Native / Pacific Islander'] = demographics['HP'] / demographics['TOTAL']\n",
    "district_prop['Two or More Races'] = demographics['TR'] / demographics['TOTAL']\n",
    "\n",
    "\n",
    "district_prop.head()"
   ]
  },
  {
   "cell_type": "code",
   "execution_count": 9,
   "metadata": {},
   "outputs": [],
   "source": [
    "Cuts_demographics = Cuts[['LEAID']].merge(demographics[['LEAID','AM','AS','HI','BL','WH','HP','TR','TOTAL']], how = 'inner' ,on = 'LEAID')\n",
    "\n",
    "# Removing negative values:\n",
    "num = Cuts_demographics._get_numeric_data()\n",
    "num[num < 0] = 0\n",
    "\n",
    "Race_count = pd.DataFrame(Cuts_demographics[['AM','AS','HI','BL','WH','HP','TR']].sum()).rename(columns = {0:'Count'})\n",
    "\n",
    "not_cut_demographics = Cuts[['LEAID']].merge(demographics[['LEAID','AM','AS','HI','BL','WH','HP','TR','TOTAL']], how='outer', indicator=True)\n",
    "\n",
    "not_cut_demographics = not_cut_demographics[not_cut_demographics._merge == 'right_only']\n",
    "\n",
    "# Removing negative values:\n",
    "num = not_cut_demographics._get_numeric_data()\n",
    "num[num < 0] = 0\n",
    "Race_count_notcut = pd.DataFrame(not_cut_demographics[['AM','AS','HI','BL','WH','HP','TR']].sum()).rename(columns = {0:'Count'})"
   ]
  },
  {
   "cell_type": "code",
   "execution_count": 10,
   "metadata": {},
   "outputs": [],
   "source": [
    "Races = {'AM': 'American Indian/Alaska Native',\n",
    " 'AS': 'Asian',\n",
    " 'HI': 'Hispanic',\n",
    " 'BL': 'Black',\n",
    " 'WH': 'White',\n",
    " 'HP': 'Hawaiian Native / Pacific Islander',\n",
    " 'TR': 'Two or More Races'}\n",
    "Race_count = Race_count.rename(index = Races).reset_index().rename(columns = {'index':'Races'}) \n",
    "Race_count['Percent'] =   Race_count['Count']/Race_count['Count'].sum()*100"
   ]
  },
  {
   "cell_type": "code",
   "execution_count": 11,
   "metadata": {},
   "outputs": [
    {
     "data": {
      "text/html": [
       "<div>\n",
       "<style scoped>\n",
       "    .dataframe tbody tr th:only-of-type {\n",
       "        vertical-align: middle;\n",
       "    }\n",
       "\n",
       "    .dataframe tbody tr th {\n",
       "        vertical-align: top;\n",
       "    }\n",
       "\n",
       "    .dataframe thead th {\n",
       "        text-align: right;\n",
       "    }\n",
       "</style>\n",
       "<table border=\"1\" class=\"dataframe\">\n",
       "  <thead>\n",
       "    <tr style=\"text-align: right;\">\n",
       "      <th></th>\n",
       "      <th>Races</th>\n",
       "      <th>Count</th>\n",
       "      <th>Percent</th>\n",
       "    </tr>\n",
       "  </thead>\n",
       "  <tbody>\n",
       "    <tr>\n",
       "      <th>0</th>\n",
       "      <td>American Indian/Alaska Native</td>\n",
       "      <td>286372.0</td>\n",
       "      <td>0.922366</td>\n",
       "    </tr>\n",
       "    <tr>\n",
       "      <th>1</th>\n",
       "      <td>Asian</td>\n",
       "      <td>1774324.0</td>\n",
       "      <td>5.714862</td>\n",
       "    </tr>\n",
       "    <tr>\n",
       "      <th>2</th>\n",
       "      <td>Hispanic</td>\n",
       "      <td>7365882.0</td>\n",
       "      <td>23.724527</td>\n",
       "    </tr>\n",
       "    <tr>\n",
       "      <th>3</th>\n",
       "      <td>Black</td>\n",
       "      <td>4310695.0</td>\n",
       "      <td>13.884176</td>\n",
       "    </tr>\n",
       "    <tr>\n",
       "      <th>4</th>\n",
       "      <td>White</td>\n",
       "      <td>16091223.0</td>\n",
       "      <td>51.827691</td>\n",
       "    </tr>\n",
       "    <tr>\n",
       "      <th>5</th>\n",
       "      <td>Hawaiian Native / Pacific Islander</td>\n",
       "      <td>147183.0</td>\n",
       "      <td>0.474057</td>\n",
       "    </tr>\n",
       "    <tr>\n",
       "      <th>6</th>\n",
       "      <td>Two or More Races</td>\n",
       "      <td>1071861.0</td>\n",
       "      <td>3.452322</td>\n",
       "    </tr>\n",
       "  </tbody>\n",
       "</table>\n",
       "</div>"
      ],
      "text/plain": [
       "                                Races       Count    Percent\n",
       "0       American Indian/Alaska Native    286372.0   0.922366\n",
       "1                               Asian   1774324.0   5.714862\n",
       "2                            Hispanic   7365882.0  23.724527\n",
       "3                               Black   4310695.0  13.884176\n",
       "4                               White  16091223.0  51.827691\n",
       "5  Hawaiian Native / Pacific Islander    147183.0   0.474057\n",
       "6                   Two or More Races   1071861.0   3.452322"
      ]
     },
     "execution_count": 11,
     "metadata": {},
     "output_type": "execute_result"
    }
   ],
   "source": [
    "Race_count_notcut = Race_count_notcut.rename(index = Races).reset_index().rename(columns = {'index':'Races'}) \n",
    "Race_count_notcut['Percent'] =   Race_count_notcut['Count']/Race_count_notcut['Count'].sum()*100\n",
    "Race_count_notcut"
   ]
  },
  {
   "cell_type": "code",
   "execution_count": 12,
   "metadata": {},
   "outputs": [
    {
     "data": {
      "image/png": "[encoded data removed]",
      "text/plain": [
       "<Figure size 720x720 with 2 Axes>"
      ]
     },
     "metadata": {
      "needs_background": "light"
     },
     "output_type": "display_data"
    }
   ],
   "source": [
    "plt.figure(figsize=(10,10))\n",
    "plt.subplot(2,1,1)\n",
    "plt.barh(Race_count_notcut.Races,Race_count_notcut.Percent)\n",
    "plt.title('No Revenue Cut')\n",
    "plt.xlabel('Race')\n",
    "plt.ylabel('Percentage of race with no revenue cut')\n",
    "plt.subplot(2,1,2)\n",
    "plt.barh(Race_count.Races,Race_count.Percent)\n",
    "plt.title('Revenue Cut')\n",
    "plt.xlabel('Race')\n",
    "plt.ylabel('Percentage of race with revenue cut')\n",
    "plt.show()"
   ]
  },
  {
   "cell_type": "markdown",
   "metadata": {},
   "source": [
    "#### Comment on whether the the distributions appear to be the same or different. Did your selection include any hidden biases, or manage to avoid them?"
   ]
  },
  {
   "cell_type": "markdown",
   "metadata": {},
   "source": [
    "* An implicit bias is observed in Hispanic students enrolled as percentage of Hispanic students in district that lost revenue is 30% where as enrollment in districts that havent lost funding has 23% enrollment of Hispanic students. Most of the distribution is quite similar for the districts that would lose revenue as supposed to districts that would not face cut in the revenue. \n",
    "\n",
    "* We can observe a little negative bias in the solution towards hispanic students however it is minimal."
   ]
  },
  {
   "cell_type": "markdown",
   "metadata": {},
   "source": [
    "### Problem 3\n",
    "#### Calculate the proportion of enrolled students by disability status (students with an IEP under IDEA) for each district, then visualize the distributions of these proportions for districts that received budget cuts versus districts that did not receive budget cuts."
   ]
  },
  {
   "cell_type": "code",
   "execution_count": 13,
   "metadata": {},
   "outputs": [],
   "source": [
    "disabilities = pd.read_csv('./Data/ccd_lea_002089_1516_w_1a_011717.csv', low_memory=False)\n",
    "disabilities[['LEAID']] = disabilities['LEAID'].astype('str')"
   ]
  },
  {
   "cell_type": "code",
   "execution_count": 14,
   "metadata": {},
   "outputs": [
    {
     "data": {
      "text/html": [
       "<div>\n",
       "<style scoped>\n",
       "    .dataframe tbody tr th:only-of-type {\n",
       "        vertical-align: middle;\n",
       "    }\n",
       "\n",
       "    .dataframe tbody tr th {\n",
       "        vertical-align: top;\n",
       "    }\n",
       "\n",
       "    .dataframe thead th {\n",
       "        text-align: right;\n",
       "    }\n",
       "</style>\n",
       "<table border=\"1\" class=\"dataframe\">\n",
       "  <thead>\n",
       "    <tr style=\"text-align: right;\">\n",
       "      <th></th>\n",
       "      <th>LEAID</th>\n",
       "      <th>SPECED</th>\n",
       "      <th>TOTAL</th>\n",
       "      <th>_merge</th>\n",
       "      <th>disable_prop</th>\n",
       "    </tr>\n",
       "  </thead>\n",
       "  <tbody>\n",
       "    <tr>\n",
       "      <th>1</th>\n",
       "      <td>3500158</td>\n",
       "      <td>6.0</td>\n",
       "      <td>54.0</td>\n",
       "      <td>both</td>\n",
       "      <td>0.111111</td>\n",
       "    </tr>\n",
       "    <tr>\n",
       "      <th>2</th>\n",
       "      <td>400403</td>\n",
       "      <td>3.0</td>\n",
       "      <td>14.0</td>\n",
       "      <td>both</td>\n",
       "      <td>0.214286</td>\n",
       "    </tr>\n",
       "    <tr>\n",
       "      <th>5</th>\n",
       "      <td>1600163</td>\n",
       "      <td>26.0</td>\n",
       "      <td>101.0</td>\n",
       "      <td>both</td>\n",
       "      <td>0.257426</td>\n",
       "    </tr>\n",
       "    <tr>\n",
       "      <th>7</th>\n",
       "      <td>400351</td>\n",
       "      <td>8.0</td>\n",
       "      <td>61.0</td>\n",
       "      <td>both</td>\n",
       "      <td>0.131148</td>\n",
       "    </tr>\n",
       "    <tr>\n",
       "      <th>8</th>\n",
       "      <td>3004500</td>\n",
       "      <td>14.0</td>\n",
       "      <td>113.0</td>\n",
       "      <td>both</td>\n",
       "      <td>0.123894</td>\n",
       "    </tr>\n",
       "  </tbody>\n",
       "</table>\n",
       "</div>"
      ],
      "text/plain": [
       "     LEAID  SPECED  TOTAL _merge  disable_prop\n",
       "1  3500158     6.0   54.0   both      0.111111\n",
       "2   400403     3.0   14.0   both      0.214286\n",
       "5  1600163    26.0  101.0   both      0.257426\n",
       "7   400351     8.0   61.0   both      0.131148\n",
       "8  3004500    14.0  113.0   both      0.123894"
      ]
     },
     "execution_count": 14,
     "metadata": {},
     "output_type": "execute_result"
    }
   ],
   "source": [
    "disabilities_prop = disabilities[['LEAID', 'SPECED']]\\\n",
    "                    .merge(demographics[['LEAID', 'TOTAL']])\n",
    "disabilities_prop = Cuts[['LEAID']].merge(disabilities_prop, how='outer', indicator=True)\n",
    "disabilities_prop = disabilities_prop[disabilities_prop.TOTAL.notna()]\n",
    "disabilities_prop['disable_prop'] = disabilities_prop['SPECED']/disabilities_prop['TOTAL']\n",
    "disabilities_prop.head()"
   ]
  },
  {
   "cell_type": "code",
   "execution_count": 15,
   "metadata": {},
   "outputs": [
    {
     "data": {
      "text/html": [
       "<div>\n",
       "<style scoped>\n",
       "    .dataframe tbody tr th:only-of-type {\n",
       "        vertical-align: middle;\n",
       "    }\n",
       "\n",
       "    .dataframe tbody tr th {\n",
       "        vertical-align: top;\n",
       "    }\n",
       "\n",
       "    .dataframe thead th {\n",
       "        text-align: right;\n",
       "    }\n",
       "</style>\n",
       "<table border=\"1\" class=\"dataframe\">\n",
       "  <thead>\n",
       "    <tr style=\"text-align: right;\">\n",
       "      <th></th>\n",
       "      <th>SPECED</th>\n",
       "      <th>TOTAL</th>\n",
       "      <th>disable_prop</th>\n",
       "      <th>not_disable_prop</th>\n",
       "    </tr>\n",
       "    <tr>\n",
       "      <th>_merge</th>\n",
       "      <th></th>\n",
       "      <th></th>\n",
       "      <th></th>\n",
       "      <th></th>\n",
       "    </tr>\n",
       "  </thead>\n",
       "  <tbody>\n",
       "    <tr>\n",
       "      <th>revenue_not_cut</th>\n",
       "      <td>4134294.0</td>\n",
       "      <td>31049551.0</td>\n",
       "      <td>0.133151</td>\n",
       "      <td>0.866849</td>\n",
       "    </tr>\n",
       "    <tr>\n",
       "      <th>revenue_cut</th>\n",
       "      <td>2540898.0</td>\n",
       "      <td>19762259.0</td>\n",
       "      <td>0.128573</td>\n",
       "      <td>0.871427</td>\n",
       "    </tr>\n",
       "  </tbody>\n",
       "</table>\n",
       "</div>"
      ],
      "text/plain": [
       "                    SPECED       TOTAL  disable_prop  not_disable_prop\n",
       "_merge                                                                \n",
       "revenue_not_cut  4134294.0  31049551.0      0.133151          0.866849\n",
       "revenue_cut      2540898.0  19762259.0      0.128573          0.871427"
      ]
     },
     "execution_count": 15,
     "metadata": {},
     "output_type": "execute_result"
    }
   ],
   "source": [
    "overall_proportion = disabilities_prop.groupby('_merge').sum()\n",
    "overall_proportion['disable_prop'] = overall_proportion['SPECED']/overall_proportion['TOTAL'] \n",
    "overall_proportion = overall_proportion.drop('left_only')\\\n",
    "                    .rename(index = {'both':'revenue_cut','right_only':'revenue_not_cut'})\n",
    "overall_proportion['not_disable_prop'] = 1 - overall_proportion['disable_prop']\n",
    "overall_proportion\n"
   ]
  },
  {
   "cell_type": "code",
   "execution_count": 16,
   "metadata": {},
   "outputs": [],
   "source": [
    "plt_prop = overall_proportion[['disable_prop','not_disable_prop']].stack().reset_index().rename(columns = {'level_1':'disability',0:'prop'})"
   ]
  },
  {
   "cell_type": "code",
   "execution_count": 17,
   "metadata": {},
   "outputs": [
    {
     "data": {
      "text/plain": [
       "Text(0, 0.5, 'Proportion of disabled students with no revenue cut')"
      ]
     },
     "execution_count": 17,
     "metadata": {},
     "output_type": "execute_result"
    },
    {
     "data": {
      "image/png": "[encoded data removed]",
      "text/plain": [
       "<Figure size 720x360 with 2 Axes>"
      ]
     },
     "metadata": {
      "needs_background": "light"
     },
     "output_type": "display_data"
    }
   ],
   "source": [
    "plt.figure(figsize=(10,5))\n",
    "plt.subplot(1,2,1)\n",
    "plt.title('Revenue Cut')\n",
    "\n",
    "plt.bar(plt_prop[plt_prop._merge == 'revenue_cut'].disability,\n",
    "        plt_prop[plt_prop._merge == 'revenue_cut'].prop)\n",
    "\n",
    "plt.xlabel('Disability')\n",
    "plt.ylabel('Proportion of disabled students with revenue cut')\n",
    "plt.subplot(1,2,2)\n",
    "\n",
    "\n",
    "plt.bar(plt_prop[plt_prop._merge == 'revenue_not_cut'].disability,\n",
    "        plt_prop[plt_prop._merge == 'revenue_not_cut'].prop)\n",
    "\n",
    "plt.title('No Revenue Cut')\n",
    "plt.xlabel('Disability')\n",
    "plt.ylabel('Proportion of disabled students with no revenue cut')\n",
    "\n"
   ]
  },
  {
   "cell_type": "markdown",
   "metadata": {},
   "source": [
    "#### Comment on whether the the distributions appear to be the same or different. Did your selection include any hidden biases, or manage to avoid them?"
   ]
  },
  {
   "cell_type": "markdown",
   "metadata": {},
   "source": [
    "* The distribution for proportion of disabled and not disable student is very similar in both the cases. Hence, the results are not biased towards disbled students negatively or positively."
   ]
  },
  {
   "cell_type": "markdown",
   "metadata": {},
   "source": [
    "### Problem 4\n",
    "\n",
    "#### Choose and critique one of your fellow classmates’ selection of schools for budget cuts in HW 3 Problem 4 and Problem 5. What was the justification of their selection? Discuss any advantages or disadvantages of their approach."
   ]
  },
  {
   "cell_type": "markdown",
   "metadata": {},
   "source": [
    "* I would critique on Prathwish Shetty's Answer:\n",
    "https://colab.research.google.com/drive/1TD7hQ2NMVWYvLg7bIZv0ay46fOoOhfpi#scrollTo=IxYCQg8UrCCZ\n",
    "\n",
    "* Prathwish chose to do multi-level funding cut. Students with lower scores gets a lower cut in revenue.\n",
    "\n",
    "* Pros:\n",
    "    * The method promotes to push education standards for lower performing school. It does make sense that more resources should be put on low performing students to bring them up to average level. So cutting their revenues could impact negatively.\n",
    "    \n",
    "* Cons: \n",
    "    * However, I feel monetary funds could not be the only reason. There could be other factors too. Also, if the students are performing exceptionally well their schools' revenue would get a cut that could affect the schools in debt with students performing well. This method could be unfair for those students and schools working really hard. \n",
    "    \n",
    "* Suggestion: \n",
    "    * Scores and proficiency in subjects could be one of the factors to be considered. Aditionally, total revenue and debt could be also considered so that the schools aren't negatively affected. "
   ]
  },
  {
   "cell_type": "markdown",
   "metadata": {},
   "source": [
    "### Problem 5\n",
    "#### Summarize and comment on what you learned from one the special topics lectures (MapReduce + Hadoop, Visualization, Causal Inference, or the Industry Panel) of your choice."
   ]
  },
  {
   "cell_type": "markdown",
   "metadata": {},
   "source": [
    "#### INDUSTRY PANEL\n",
    "* The industry panel which included Faye Zheng (Gamalon), Michelle Tat (Haven Healthcare), Daniel Hannah (Vectra AI), Katie Porter (Tamr) and Luke Winslow (Wayfair) was very helpful as they discussed more about the industry. How the different roles are they are not called Data Science roles however they do have work relavent to Data Science. They emphasized on the critical points we need to keep mind during the process of job search. The panel also discussed their own journey and career paths about their PHDs. DS 5500 being the last course of the program having panel on one of the lecture days is very helpful as we are looking towards finding new jobs or decideing wether to go for PHD or not. \n",
    "\n",
    "* This lecture was very benificial as it gave first hand information from people in industry who have been in Academia for a while also as some of them were Post Docs. "
   ]
  }
 ],
 "metadata": {
  "kernelspec": {
   "display_name": "Python 3",
   "language": "python",
   "name": "python3"
  },
  "language_info": {
   "codemirror_mode": {
    "name": "ipython",
    "version": 3
   },
   "file_extension": ".py",
   "mimetype": "text/x-python",
   "name": "python",
   "nbconvert_exporter": "python",
   "pygments_lexer": "ipython3",
   "version": "3.7.3"
  }
 },
 "nbformat": 4,
 "nbformat_minor": 2
}
